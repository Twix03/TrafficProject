{
  "nbformat": 4,
  "nbformat_minor": 0,
  "metadata": {
    "colab": {
      "provenance": []
    },
    "kernelspec": {
      "name": "python3",
      "display_name": "Python 3"
    },
    "language_info": {
      "name": "python"
    }
  },
  "cells": [
    {
      "cell_type": "code",
      "execution_count": 14,
      "metadata": {
        "id": "bDY_df0mgTAA"
      },
      "outputs": [],
      "source": [
        "import matplotlib\n",
        "import matplotlib.gridspec as gridspec\n",
        "import matplotlib.pyplot as plt\n",
        "import numpy as np\n",
        "import matplotlib.colors\n",
        "from pandas import *\n",
        "\n"
      ]
    },
    {
      "cell_type": "code",
      "source": [
        "from google.colab import drive\n",
        "drive.mount('/content/drive')"
      ],
      "metadata": {
        "colab": {
          "base_uri": "https://localhost:8080/"
        },
        "id": "eeiCyYkZjitM",
        "outputId": "c99c8cf9-5dc7-4698-a3a3-12a808568077"
      },
      "execution_count": 15,
      "outputs": [
        {
          "output_type": "stream",
          "name": "stdout",
          "text": [
            "Drive already mounted at /content/drive; to attempt to forcibly remount, call drive.mount(\"/content/drive\", force_remount=True).\n"
          ]
        }
      ]
    },
    {
      "cell_type": "code",
      "source": [
        "def speed(y, x):\n",
        "    vel = []\n",
        "    for i in range(0,len(y)):\n",
        "        if i ==0:\n",
        "            vel.append((y[i+1]-y[i])/(x[i+1]-x[i]))\n",
        "        elif i== len(y)-1:\n",
        "            vel.append((y[i]-y[i-1])/(x[i]-x[i-1]))\n",
        "        else:\n",
        "            vel.append((y[i+1]-y[i-1])/ (x[i+1]-x[i-1]))       \n",
        "\n",
        "    return vel\n"
      ],
      "metadata": {
        "id": "0Va0HK40gZXG"
      },
      "execution_count": 16,
      "outputs": []
    },
    {
      "cell_type": "code",
      "source": [
        "def acceleration(y,x):\n",
        "    acc = []\n",
        "    for i in range(0, len(y)):\n",
        "        if i==0:\n",
        "            acc.append((y[i+1]+y[i]-2*y[i+1])/(2*((x[i+1]-x[i])**2)))\n",
        "        elif i==len(y)-1:\n",
        "            acc.append((y[i]+y[i-2]-2*y[i-1])/(2*((x[i]-x[i-1])**2)))\n",
        "        else:\n",
        "            temp = (y[i+1]+y[i-1]-2*y[i])/((x[i+1]-x[i])**2)\n",
        "            acc.append(temp)\n",
        "    return acc"
      ],
      "metadata": {
        "id": "9GHh5XC3ioT1"
      },
      "execution_count": 17,
      "outputs": []
    },
    {
      "cell_type": "code",
      "source": [
        "def getTime(lst):\n",
        "    initime = 7*3600\n",
        "    ls = []\n",
        "    for i in range(0,len(lst)):\n",
        "        temp = str(lst[i])\n",
        "        currTime = int(temp[0:1])*3600 + int(temp[1:3])*60+ int(temp[3:5]) + int(temp[5:])*0.001\n",
        "        ls.append(currTime-initime)\n",
        "    return ls\n"
      ],
      "metadata": {
        "id": "c0e5Xobgivqk"
      },
      "execution_count": 18,
      "outputs": []
    },
    {
      "cell_type": "code",
      "source": [],
      "metadata": {
        "id": "viGDS05yjKNa"
      },
      "execution_count": 18,
      "outputs": []
    },
    {
      "cell_type": "code",
      "source": [
        "colnames = [\"A\",\"B\",\"C\",\"D\",\"E\",\"F\",\"G\",\"H\",\"I\",\"J\"]\n",
        "ds = read_csv('/content/drive/MyDrive/L001_F001_ALL/L001_F001_TRAJECTORY/L001_F001_trajectory.csv',names=colnames, header=None)\n",
        "\n",
        "vehicle_id = ds[\"A\"].tolist()\n",
        "time = getTime(ds[\"B\"].tolist())\n",
        "type = ds[\"C\"].tolist()\n",
        "vel = ds[\"D\"].tolist()\n",
        "lane = ds[\"E\"].tolist()\n",
        "lat = ds[\"F\"].tolist()\n",
        "long = ds[\"G\"].tolist()\n",
        "dist = ds[\"H\"].tolist()\n",
        "vehicle_len = ds['I'].tolist()\n",
        "flag = ds['J'].tolist()\n",
        "\n",
        "dict = {1:[],2:[],3:[],4:[],5:[]}\n",
        "newDict = {1:[],2:[],3:[],4:[],5:[]}\n",
        "fnDict = {1:[[],[],[],[],[]],2:[[],[],[],[],[]],3:[[],[],[],[],[]],4:[[],[],[],[],[]],5:[[],[],[],[],[]]}"
      ],
      "metadata": {
        "id": "PMgdw7S3i6a-"
      },
      "execution_count": 19,
      "outputs": []
    },
    {
      "cell_type": "code",
      "source": [
        "for i in range(0,len(time)):\n",
        "    if 565<time[i]<585:\n",
        "        temp = np.random.randint(0,2)\n",
        "        if temp%2==0 and len(dict[1])<5 and vehicle_id[i] not in newDict[1]:\n",
        "            dict[1].append(i)\n",
        "            newDict[1].append(vehicle_id[i])\n",
        "\n",
        "    if 1040<time[i]<1060:\n",
        "        temp = np.random.randint(0,2)\n",
        "        if temp%2==0 and len(dict[2])<5 and vehicle_id[i] not in newDict[2]:\n",
        "            dict[2].append(i)\n",
        "            newDict[2].append(vehicle_id[i])\n",
        "\n",
        "    if 1840<time[i]<1860:\n",
        "        temp = np.random.randint(0,2)\n",
        "        if temp%2==0 and len(dict[3])<5 and vehicle_id[i] not in newDict[3]:\n",
        "            dict[3].append(i)\n",
        "            newDict[3].append(vehicle_id[i])\n",
        "\n",
        "    if 2470<time[i]<2490:\n",
        "        temp = np.random.randint(0,2)\n",
        "        if temp%2==0 and len(dict[4])<5 and vehicle_id[i] not in newDict[4]:\n",
        "            dict[4].append(i)\n",
        "            newDict[4].append(vehicle_id[i])\n",
        "\n",
        "    if 3490<time[i]<3510:\n",
        "        temp = np.random.randint(0,2)\n",
        "        if temp%2==0 and len(dict[5])<5 and vehicle_id[i] not in newDict[5]:\n",
        "            dict[5].append(i)\n",
        "            newDict[5].append(vehicle_id[i])                        \n"
      ],
      "metadata": {
        "id": "UqOQ9tH5i6ep"
      },
      "execution_count": 20,
      "outputs": []
    },
    {
      "cell_type": "code",
      "source": [
        "plot_decider = int(input(\"What graph do you need? \\n1. Trajecory plots\\n2. Speed vs Time plots\\n3. Acceleration vs Time\\n\"))"
      ],
      "metadata": {
        "colab": {
          "base_uri": "https://localhost:8080/"
        },
        "id": "bSOFDZK-k2_F",
        "outputId": "5fed76b1-1c9f-4450-bc3e-dc4cba5aa698"
      },
      "execution_count": 25,
      "outputs": [
        {
          "name": "stdout",
          "output_type": "stream",
          "text": [
            "What graph do you need? \n",
            "1. Trajecory plots\n",
            "2. Speed vs Time plots\n",
            "3. Acceleration vs Time\n",
            "2\n"
          ]
        }
      ]
    },
    {
      "cell_type": "code",
      "source": [
        "fig = plt.figure()\n",
        "gs = gridspec.GridSpec(2, 6)\n",
        "gs.update(wspace = 1)\n",
        "ax=[]\n",
        "ax.append(plt.subplot(gs[0, :2], ))\n",
        "ax.append(plt.subplot(gs[0, 2:4]))\n",
        "ax.append(plt.subplot(gs[0, 4:]))\n",
        "ax.append(plt.subplot(gs[1, 1:3]))\n",
        "ax.append(plt.subplot(gs[1, 3:5]))\n",
        "if plot_decider==1:\n",
        "    fig.suptitle(\"Trajectory plots\", fontsize=15)\n",
        "if plot_decider==2:\n",
        "    fig.suptitle(\"Speed vs Time plots\", fontsize=15)\n",
        "if plot_decider==3:\n",
        "    fig.suptitle(\"Acceleration vs Time plots\", fontsize=15)\n",
        "ls= [565,1040,1790,2470,3490]\n",
        "for k in range(1,6):\n",
        "    for i in range(min(dict[k]),max(dict[k])+1):\n",
        "        if vehicle_id[i] in newDict[k] and ls[k-1]<=time[i]<=ls[k-1]+20:\n",
        "            index = newDict[k].index(vehicle_id[i])\n",
        "            # print(index)\n",
        "            fnDict[k][index].append(i)\n",
        "\n",
        "    for i in range(0,5):\n",
        "        x= []\n",
        "        y =[]\n",
        "        vel = []\n",
        "        for j in fnDict[k][i]:\n",
        "            x.append(time[j])\n",
        "            y.append(dist[j])\n",
        "        # plt.plot(x,y)\n",
        "        if plot_decider==1:\n",
        "            t = y\n",
        "        elif plot_decider==2:\n",
        "            vel = speed(y,x)\n",
        "            t = vel\n",
        "        elif plot_decider==3:    \n",
        "            acc = acceleration(y,x)\n",
        "            t = acc\n",
        "        else:\n",
        "            print(\"Invalid Input\")\n",
        "        ax[k-1].plot(x,t)\n",
        "    \n",
        "plt.show()    \n"
      ],
      "metadata": {
        "colab": {
          "base_uri": "https://localhost:8080/",
          "height": 633
        },
        "id": "HWgyYXr1jCD_",
        "outputId": "8e8b6291-6a27-4106-b854-c1d8e7e4a606"
      },
      "execution_count": 27,
      "outputs": [
        {
          "output_type": "error",
          "ename": "ZeroDivisionError",
          "evalue": "ignored",
          "traceback": [
            "\u001b[0;31m---------------------------------------------------------------------------\u001b[0m",
            "\u001b[0;31mZeroDivisionError\u001b[0m                         Traceback (most recent call last)",
            "\u001b[0;32m<ipython-input-27-8f78a0e87b72>\u001b[0m in \u001b[0;36m<module>\u001b[0;34m\u001b[0m\n\u001b[1;32m     33\u001b[0m             \u001b[0mt\u001b[0m \u001b[0;34m=\u001b[0m \u001b[0my\u001b[0m\u001b[0;34m\u001b[0m\u001b[0;34m\u001b[0m\u001b[0m\n\u001b[1;32m     34\u001b[0m         \u001b[0;32melif\u001b[0m \u001b[0mplot_decider\u001b[0m\u001b[0;34m==\u001b[0m\u001b[0;36m2\u001b[0m\u001b[0;34m:\u001b[0m\u001b[0;34m\u001b[0m\u001b[0;34m\u001b[0m\u001b[0m\n\u001b[0;32m---> 35\u001b[0;31m             \u001b[0mvel\u001b[0m \u001b[0;34m=\u001b[0m \u001b[0mspeed\u001b[0m\u001b[0;34m(\u001b[0m\u001b[0my\u001b[0m\u001b[0;34m,\u001b[0m\u001b[0mx\u001b[0m\u001b[0;34m)\u001b[0m\u001b[0;34m\u001b[0m\u001b[0;34m\u001b[0m\u001b[0m\n\u001b[0m\u001b[1;32m     36\u001b[0m             \u001b[0mt\u001b[0m \u001b[0;34m=\u001b[0m \u001b[0mvel\u001b[0m\u001b[0;34m\u001b[0m\u001b[0;34m\u001b[0m\u001b[0m\n\u001b[1;32m     37\u001b[0m         \u001b[0;32melif\u001b[0m \u001b[0mplot_decider\u001b[0m\u001b[0;34m==\u001b[0m\u001b[0;36m3\u001b[0m\u001b[0;34m:\u001b[0m\u001b[0;34m\u001b[0m\u001b[0;34m\u001b[0m\u001b[0m\n",
            "\u001b[0;32m<ipython-input-16-e52d5f934be2>\u001b[0m in \u001b[0;36mspeed\u001b[0;34m(y, x)\u001b[0m\n\u001b[1;32m      7\u001b[0m             \u001b[0mvel\u001b[0m\u001b[0;34m.\u001b[0m\u001b[0mappend\u001b[0m\u001b[0;34m(\u001b[0m\u001b[0;34m(\u001b[0m\u001b[0my\u001b[0m\u001b[0;34m[\u001b[0m\u001b[0mi\u001b[0m\u001b[0;34m]\u001b[0m\u001b[0;34m-\u001b[0m\u001b[0my\u001b[0m\u001b[0;34m[\u001b[0m\u001b[0mi\u001b[0m\u001b[0;34m-\u001b[0m\u001b[0;36m1\u001b[0m\u001b[0;34m]\u001b[0m\u001b[0;34m)\u001b[0m\u001b[0;34m/\u001b[0m\u001b[0;34m(\u001b[0m\u001b[0mx\u001b[0m\u001b[0;34m[\u001b[0m\u001b[0mi\u001b[0m\u001b[0;34m]\u001b[0m\u001b[0;34m-\u001b[0m\u001b[0mx\u001b[0m\u001b[0;34m[\u001b[0m\u001b[0mi\u001b[0m\u001b[0;34m-\u001b[0m\u001b[0;36m1\u001b[0m\u001b[0;34m]\u001b[0m\u001b[0;34m)\u001b[0m\u001b[0;34m)\u001b[0m\u001b[0;34m\u001b[0m\u001b[0;34m\u001b[0m\u001b[0m\n\u001b[1;32m      8\u001b[0m         \u001b[0;32melse\u001b[0m\u001b[0;34m:\u001b[0m\u001b[0;34m\u001b[0m\u001b[0;34m\u001b[0m\u001b[0m\n\u001b[0;32m----> 9\u001b[0;31m             \u001b[0mvel\u001b[0m\u001b[0;34m.\u001b[0m\u001b[0mappend\u001b[0m\u001b[0;34m(\u001b[0m\u001b[0;34m(\u001b[0m\u001b[0my\u001b[0m\u001b[0;34m[\u001b[0m\u001b[0mi\u001b[0m\u001b[0;34m+\u001b[0m\u001b[0;36m1\u001b[0m\u001b[0;34m]\u001b[0m\u001b[0;34m-\u001b[0m\u001b[0my\u001b[0m\u001b[0;34m[\u001b[0m\u001b[0mi\u001b[0m\u001b[0;34m-\u001b[0m\u001b[0;36m1\u001b[0m\u001b[0;34m]\u001b[0m\u001b[0;34m)\u001b[0m\u001b[0;34m/\u001b[0m \u001b[0;34m(\u001b[0m\u001b[0mx\u001b[0m\u001b[0;34m[\u001b[0m\u001b[0mi\u001b[0m\u001b[0;34m+\u001b[0m\u001b[0;36m1\u001b[0m\u001b[0;34m]\u001b[0m\u001b[0;34m-\u001b[0m\u001b[0mx\u001b[0m\u001b[0;34m[\u001b[0m\u001b[0mi\u001b[0m\u001b[0;34m-\u001b[0m\u001b[0;36m1\u001b[0m\u001b[0;34m]\u001b[0m\u001b[0;34m)\u001b[0m\u001b[0;34m)\u001b[0m\u001b[0;34m\u001b[0m\u001b[0;34m\u001b[0m\u001b[0m\n\u001b[0m\u001b[1;32m     10\u001b[0m \u001b[0;34m\u001b[0m\u001b[0m\n\u001b[1;32m     11\u001b[0m     \u001b[0;32mreturn\u001b[0m \u001b[0mvel\u001b[0m\u001b[0;34m\u001b[0m\u001b[0;34m\u001b[0m\u001b[0m\n",
            "\u001b[0;31mZeroDivisionError\u001b[0m: float division by zero"
          ]
        },
        {
          "output_type": "display_data",
          "data": {
            "text/plain": [
              "<Figure size 432x288 with 5 Axes>"
            ],
            "image/png": "[encoded data removed]"
          },
          "metadata": {
            "needs_background": "light"
          }
        }
      ]
    }
  ]
}