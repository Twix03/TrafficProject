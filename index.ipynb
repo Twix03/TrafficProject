{
 "cells": [
  {
   "attachments": {},
   "cell_type": "markdown",
   "metadata": {},
   "source": [
    "Importing libraries "
   ]
  },
  {
   "cell_type": "code",
   "execution_count": null,
   "metadata": {},
   "outputs": [],
   "source": [
    "import matplotlib.pyplot as plt\n",
    "from pandas import *\n"
   ]
  },
  {
   "attachments": {},
   "cell_type": "markdown",
   "metadata": {},
   "source": [
    "reading the file    "
   ]
  },
  {
   "cell_type": "code",
   "execution_count": null,
   "metadata": {},
   "outputs": [],
   "source": [
    "ds = read_csv('L001_F001_trajectory-1.csv')\n",
    "file_obj = open('textFile.txt')\n",
    "dummy_file = open('writing.txt')\n"
   ]
  },
  {
   "attachments": {},
   "cell_type": "markdown",
   "metadata": {},
   "source": [
    "Function used to plot: func(lst) takes list as input"
   ]
  },
  {
   "cell_type": "code",
   "execution_count": null,
   "metadata": {},
   "outputs": [],
   "source": [
    "def func(lst):\n",
    "    ls = []\n",
    "    for i in range(0, len(lst)):\n",
    "        temp = str(ls[i])\n",
    "        time = int(temp[0:2])*3600 + int(temp[2:4])*60 + int(temp[4:6])+int(temp[6:])*0.001\n",
    "        ls[i] = time\n",
    "    return ls\n",
    "        \n"
   ]
  },
  {
   "cell_type": "code",
   "execution_count": null,
   "metadata": {},
   "outputs": [],
   "source": [
    "vehicle_id = ds['A'].tolist()\n",
    "time = func(ds['B'].tolist())\n",
    "vehicle_type = ds['C'].tolist()\n",
    "vel = ds['D'].tolist()\n",
    "lane = ds['E'].tolist()\n",
    "dist = ds['H'].tolist()\n",
    "vehicle_len = ds['I'].tolist()\n",
    "flag = ds['J'].tolist()"
   ]
  },
  {
   "cell_type": "code",
   "execution_count": 1,
   "metadata": {},
   "outputs": [
    {
     "ename": "NameError",
     "evalue": "name 'plt' is not defined",
     "output_type": "error",
     "traceback": [
      "\u001b[1;31m---------------------------------------------------------------------------\u001b[0m",
      "\u001b[1;31mNameError\u001b[0m                                 Traceback (most recent call last)",
      "\u001b[1;32mc:\\Users\\vikra\\OneDrive\\Desktop\\Traffic project\\index.ipynb Cell 8\u001b[0m in \u001b[0;36m<cell line: 1>\u001b[1;34m()\u001b[0m\n\u001b[1;32m----> <a href='vscode-notebook-cell:/c%3A/Users/vikra/OneDrive/Desktop/Traffic%20project/index.ipynb#X11sZmlsZQ%3D%3D?line=0'>1</a>\u001b[0m plt\u001b[39m.\u001b[39mplot(time, dist)\n",
      "\u001b[1;31mNameError\u001b[0m: name 'plt' is not defined"
     ]
    }
   ],
   "source": [
    "plt.plot(time, dist)"
   ]
  }
 ],
 "metadata": {
  "kernelspec": {
   "display_name": "Python 3",
   "language": "python",
   "name": "python3"
  },
  "language_info": {
   "codemirror_mode": {
    "name": "ipython",
    "version": 3
   },
   "file_extension": ".py",
   "mimetype": "text/x-python",
   "name": "python",
   "nbconvert_exporter": "python",
   "pygments_lexer": "ipython3",
   "version": "3.8.10"
  },
  "orig_nbformat": 4,
  "vscode": {
   "interpreter": {
    "hash": "528f086b7662019917ab0122a7314185f5925b5281464cce86e3d547955b75ae"
   }
  }
 },
 "nbformat": 4,
 "nbformat_minor": 2
}
